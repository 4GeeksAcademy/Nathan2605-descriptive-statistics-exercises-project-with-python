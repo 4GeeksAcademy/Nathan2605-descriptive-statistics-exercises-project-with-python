{
    "cells": [
        {
            "cell_type": "markdown",
            "id": "ac622319",
            "metadata": {},
            "source": [
                "# Descriptive statistics problems"
            ]
        },
        {
            "cell_type": "code",
            "execution_count": 38,
            "id": "2fb3e830",
            "metadata": {},
            "outputs": [],
            "source": [
                "import numpy as np\n",
                "import pandas as pd\n",
                "import matplotlib.pyplot as plt\n",
                "import random\n",
                "import statistics as stats"
            ]
        },
        {
            "cell_type": "markdown",
            "id": "5e0ab0d5",
            "metadata": {},
            "source": [
                "### Exercise 1\n",
                "\n",
                "We will use NumPy to obtain information to describe statistically.\n",
                "\n",
                "- Generate an array of 100 elements following a normal distribution.\n",
                "- Generate an array of 100 elements following a chi-square distribution with 3 degrees of freedom.\n",
                "- Calculate the main metrics and statistical measures that best describe the two vectors."
            ]
        },
        {
            "cell_type": "code",
            "execution_count": 39,
            "id": "7ad4f638",
            "metadata": {},
            "outputs": [
                {
                    "name": "stdout",
                    "output_type": "stream",
                    "text": [
                        "[-1.96049094 -0.33811262 -0.20660324  0.23085481 -0.35485379  0.16844049\n",
                        "  0.7305018   0.58911222 -0.12333533 -0.43720997 -0.85587651 -0.38555356\n",
                        "  1.28350781 -0.21704179  0.25712841  0.53727808 -0.78981286  0.3357637\n",
                        "  1.02810598  0.30502601 -0.04087766 -0.10966927  1.31497971 -0.74954145\n",
                        " -0.68903353 -0.5918808   0.15884348 -1.339156   -1.26871978 -0.12208945\n",
                        "  1.37694786 -1.66155754 -0.33885807  0.31950155 -0.41577162 -2.1038292\n",
                        " -0.74433822  0.89044654  1.30586087  1.28674458 -1.66178245 -0.85797473\n",
                        "  0.31720578 -0.29003981 -0.23111429  1.28502567 -1.81301571  1.72261276\n",
                        " -0.9468885  -1.03669992 -0.60080158 -0.70394838 -0.30227135 -0.80475197\n",
                        "  0.15653884  1.9269202   0.04948503 -0.79673547  1.12947521  0.05828295\n",
                        " -2.12732021  1.18080423 -1.27344264  2.56045026 -0.24281712  0.10227491\n",
                        " -0.13852444 -0.56750348  0.64448989 -0.12943536 -2.42394096  0.39459478\n",
                        " -1.38587893 -1.15953267 -0.10158119  0.30102556 -2.24135033 -0.12325075\n",
                        "  0.6284601   0.81442071 -0.50837612 -0.89341221  0.3219898  -0.40596691\n",
                        "  1.51520879 -0.05210583  1.05577151  1.84559606  0.56955384  0.65717011\n",
                        "  0.36597538  0.78699225  1.42108225 -1.74441153  0.66310227  0.86911597\n",
                        " -0.66196824 -0.14429224 -1.32892815 -0.50002804]\n",
                        "[ 1.19556178  1.64191555  0.41239426  0.62684845  3.69950446  7.21877099\n",
                        "  5.20120792  0.74710107  1.68475852  4.00008508  0.2340382   0.28825601\n",
                        "  5.04158729  2.37808485  1.0308135   1.29073941  0.15601893  1.48066666\n",
                        "  4.7108399   9.86959039  3.6950563   1.65370697  5.38199028  2.62175019\n",
                        "  7.54543479  6.55152532  4.00444797  2.83929675  2.89573398  0.7745771\n",
                        "  4.27844634  3.56314733  0.65604711  9.53146988 10.6521647   0.08738802\n",
                        "  1.43953767  2.44786558  0.71194646  0.45507972  0.59631211  6.7867702\n",
                        "  0.60399704  2.88513617  0.75461179  1.4565863   4.42730318  3.22734725\n",
                        "  3.96149218  2.82337948  1.65680118  2.65392452  2.09860063  2.45387514\n",
                        "  5.42921101  3.52654138 12.31581442  4.17875647 11.66251615  3.45074381\n",
                        "  3.32857093  1.62472343  4.76424529  2.26174728  4.47031366  1.43427622\n",
                        "  1.33209243  4.43548898  2.62324745  2.03838924  0.3253756   1.6588501\n",
                        "  1.66128303  0.52597896  3.08729566  0.92813797  4.5198508   0.47545642\n",
                        "  0.12071747  2.22657172  1.19744624  2.72675164  8.19104808  1.55593325\n",
                        "  2.31025828 11.96830287  0.64218239  0.63602319  0.2801565   7.2245091\n",
                        "  5.57485078  2.07666942  2.32408864  4.30060389  2.79978669  1.91228135\n",
                        "  0.25334015  2.86502433  7.44600842  0.83681556]\n"
                    ]
                }
            ],
            "source": [
                "#METODO 1\n",
                "\n",
                "array_normal = np.random.normal(size = 100)\n",
                "array_chi = np.random.chisquare(3, 100)\n",
                "\n",
                "print(array_normal)\n",
                "print(array_chi)"
            ]
        },
        {
            "cell_type": "code",
            "execution_count": 40,
            "id": "700a45fa",
            "metadata": {},
            "outputs": [
                {
                    "name": "stdout",
                    "output_type": "stream",
                    "text": [
                        "[ 0.11273254 -0.07027483  1.39378418 -0.14347778  1.0643709  -0.10687631\n",
                        " -0.94871024  0.58855172  0.4787473  -1.6075368   1.0643709   0.69835615\n",
                        " -0.10687631 -0.25328221 -0.72910139  0.55195025 -0.28988368  0.11273254\n",
                        "  1.17417533  1.35718271 -0.03367336  0.73495763  0.07613107 -0.03367336\n",
                        "  1.43038566  0.73495763 -1.9003486  -0.36308664 -1.79054417 -1.64413827\n",
                        " -0.54609401 -1.16831909 -0.76570286  1.17417533  0.84476205 -1.49773237\n",
                        "  0.14933402  1.0643709  -0.65589844  0.58855172  0.4787473  -1.82714565\n",
                        " -1.71734122 -0.39968811 -0.76570286 -0.69249991 -1.13171762  0.29573992\n",
                        "  1.02776943  0.917965    1.57679156  1.64999451 -1.09511614 -1.71734122\n",
                        "  0.07613107  1.02776943  1.0643709   1.46698713  1.57679156 -0.65589844\n",
                        " -0.14347778 -1.93695008  0.03952959  1.0643709   1.10097238  0.25913845\n",
                        " -1.9003486   0.6251532   0.95456648  1.61339303 -0.32648516  0.18593549\n",
                        " -0.39968811 -1.57093532 -1.64413827  1.24737828  0.22253697  1.35718271\n",
                        "  0.88136353 -1.16831909  0.80816058  0.14933402  0.11273254  0.11273254\n",
                        " -1.13171762 -0.65589844  0.36894287 -0.47289106  0.25913845 -0.25328221\n",
                        " -0.80230434  0.11273254 -0.10687631  0.22253697  1.61339303 -1.38792795\n",
                        "  1.35718271 -0.14347778 -1.4611309  -1.05851467]\n"
                    ]
                },
                {
                    "data": {
                        "text/plain": [
                            "array([300., 300., 300., 300., 300., 300., 300., 300., 300., 300., 300.,\n",
                            "       300., 300., 300., 300., 300., 300., 300., 300., 300., 300., 300.,\n",
                            "       300., 300., 300., 300., 300., 300., 300., 300., 300., 300., 300.,\n",
                            "       300., 300., 300., 300., 300., 300., 300., 300., 300., 300., 300.,\n",
                            "       300., 300., 300., 300., 300., 300., 300., 300., 300., 300., 300.,\n",
                            "       300., 300., 300., 300., 300., 300., 300., 300., 300., 300., 300.,\n",
                            "       300., 300., 300., 300., 300., 300., 300., 300., 300., 300., 300.,\n",
                            "       300., 300., 300., 300., 300., 300., 300., 300., 300., 300., 300.,\n",
                            "       300., 300., 300., 300., 300., 300., 300., 300., 300., 300., 300.,\n",
                            "       300.])"
                        ]
                    },
                    "execution_count": 40,
                    "metadata": {},
                    "output_type": "execute_result"
                }
            ],
            "source": [
                "#METODO 2 \n",
                "\n",
                "#generar normal y chi cuadrado manualmente\n",
                "\n",
                "array_aleatorio1 = np.random.randint(low=0, high=100, size=100)\n",
                "\n",
                "def normalizar(array):\n",
                "    return (array - array.mean()) / array.std()\n",
                "\n",
                "array_normalizado = normalizar(array_aleatorio1)\n",
                "print(array_normalizado)\n",
                "#print(array_normalizado.std())\n",
                "\n",
                "grados_libertad = 3\n",
                "def chi_cuadrado(n):\n",
                "    chi_cuadrado_array = np.zeros(n)\n",
                "    for i in range(n):\n",
                "        array_aleatorio = np.random.randint(low=0, high=100, size=100)\n",
                "        array_norm = normalizar(array_aleatorio)\n",
                "        cuadrados = array_norm ** 2\n",
                "        chi_cuadrado = np.sum(cuadrados)\n",
                "        chi_cuadrado_con_grados_libetad  = chi_cuadrado * 2 * grados_libertad / 2\n",
                "        chi_cuadrado_array[i] = chi_cuadrado_array[i] + chi_cuadrado_con_grados_libetad \n",
                "    return chi_cuadrado_array\n",
                "\n",
                "\n",
                "chi_cuadrado(100) #tengo un error"
            ]
        },
        {
            "cell_type": "code",
            "execution_count": 41,
            "id": "cf0bdc45",
            "metadata": {},
            "outputs": [],
            "source": [
                "#generar array normal y chi cuadrado\n",
                "array_normal = np.random.normal(size = 1000000) \n",
                "array_chi = np.random.chisquare(3, 1000000) "
            ]
        },
        {
            "cell_type": "code",
            "execution_count": 42,
            "id": "36ed54ee",
            "metadata": {},
            "outputs": [
                {
                    "name": "stdout",
                    "output_type": "stream",
                    "text": [
                        "Promedio Array Normal: -0.0001431915665510928\n",
                        "Promedio Array Chi: 2.996500986972787\n"
                    ]
                }
            ],
            "source": [
                "#Media/promedio\n",
                "print(f'Promedio Array Normal: {array_normal.mean()}')\n",
                "print(f'Promedio Array Chi: {array_chi.mean()}')"
            ]
        },
        {
            "cell_type": "code",
            "execution_count": 43,
            "id": "16eeca83",
            "metadata": {},
            "outputs": [
                {
                    "name": "stdout",
                    "output_type": "stream",
                    "text": [
                        "Mediana Array Normal: -0.0006257722910673184\n",
                        "Mediana Array Chi: 2.363158585363661\n"
                    ]
                }
            ],
            "source": [
                "#Mediana\n",
                "print(f'Mediana Array Normal: {stats.median(array_normal)}')\n",
                "print(f'Mediana Array Chi: {stats.median(array_chi)}')"
            ]
        },
        {
            "cell_type": "code",
            "execution_count": 44,
            "id": "f7731111",
            "metadata": {},
            "outputs": [
                {
                    "name": "stdout",
                    "output_type": "stream",
                    "text": [
                        "Moda Array Normal: -0.26169041185467506\n",
                        "Moda Array Chi: 2.114499346034503\n"
                    ]
                }
            ],
            "source": [
                "#Moda\n",
                "print(f'Moda Array Normal: {stats.mode(array_normal)}')\n",
                "print(f'Moda Array Chi: {stats.mode(array_chi)}')"
            ]
        },
        {
            "cell_type": "code",
            "execution_count": 45,
            "id": "6b1f1026",
            "metadata": {},
            "outputs": [
                {
                    "name": "stdout",
                    "output_type": "stream",
                    "text": [
                        "Rango Array Normal: 9.313856532264158\n",
                        "Rango Array Chi: 29.318251167652644\n"
                    ]
                }
            ],
            "source": [
                "#rango\n",
                "rango_normal = max(array_normal) - min(array_normal)\n",
                "rango_chi = max(array_chi) - min(array_chi)\n",
                "\n",
                "print(f'Rango Array Normal: {rango_normal}')\n",
                "print(f'Rango Array Chi: {rango_chi}')"
            ]
        },
        {
            "cell_type": "code",
            "execution_count": 46,
            "id": "f3e9d983",
            "metadata": {},
            "outputs": [
                {
                    "name": "stdout",
                    "output_type": "stream",
                    "text": [
                        "Var Array Normal: 1.000185227603749\n",
                        "Var Array Chi: 5.970138554624021\n"
                    ]
                }
            ],
            "source": [
                "#variacion\n",
                "print(f'Var Array Normal: {stats.variance(array_normal)}')\n",
                "print(f'Var Array Chi: {stats.variance(array_chi)}')"
            ]
        },
        {
            "cell_type": "code",
            "execution_count": 47,
            "id": "61379177",
            "metadata": {},
            "outputs": [
                {
                    "name": "stdout",
                    "output_type": "stream",
                    "text": [
                        "Desviacion estandar Array Normal: 1.0000926095136136\n",
                        "Desviacion estandar Array Chi: 2.4433866977259293\n"
                    ]
                }
            ],
            "source": [
                "#desviacion estandar\n",
                "print(f'Desviacion estandar Array Normal: {stats.stdev(array_normal)}')\n",
                "print(f'Desviacion estandar Array Chi: {stats.stdev(array_chi)}')"
            ]
        },
        {
            "cell_type": "code",
            "execution_count": 48,
            "id": "d24a7148",
            "metadata": {},
            "outputs": [
                {
                    "name": "stdout",
                    "output_type": "stream",
                    "text": [
                        "Coeficiente variacion Array Normal: -6984.298262822386\n",
                        "Coeficiente variacion Array Chi: 0.8154132798048428\n"
                    ]
                }
            ],
            "source": [
                "#Coeficiente de variacion\n",
                "print(f'Coeficiente variacion Array Normal: {stats.stdev(array_normal) / stats.mean(array_normal)}') #no sirve para Normal con media = 0\n",
                "print(f'Coeficiente variacion Array Chi: {stats.stdev(array_chi) / stats.mean(array_chi) }')"
            ]
        },
        {
            "cell_type": "code",
            "execution_count": 49,
            "id": "29387514",
            "metadata": {},
            "outputs": [
                {
                    "data": {
                        "text/plain": [
                            "(array([1.00000e+01, 3.80000e+01, 1.50000e+02, 5.10000e+02, 1.81600e+03,\n",
                            "        4.90100e+03, 1.23280e+04, 2.60470e+04, 4.87960e+04, 7.94360e+04,\n",
                            "        1.11390e+05, 1.37498e+05, 1.47589e+05, 1.37959e+05, 1.13191e+05,\n",
                            "        8.06280e+04, 5.02090e+04, 2.69540e+04, 1.26710e+04, 5.24800e+03,\n",
                            "        1.84900e+03, 5.90000e+02, 1.41000e+02, 4.20000e+01, 9.00000e+00]),\n",
                            " array([-4.6658174 , -4.29326314, -3.92070888, -3.54815462, -3.17560036,\n",
                            "        -2.8030461 , -2.43049184, -2.05793758, -1.68538331, -1.31282905,\n",
                            "        -0.94027479, -0.56772053, -0.19516627,  0.17738799,  0.54994225,\n",
                            "         0.92249652,  1.29505078,  1.66760504,  2.0401593 ,  2.41271356,\n",
                            "         2.78526782,  3.15782208,  3.53037634,  3.90293061,  4.27548487,\n",
                            "         4.64803913]),\n",
                            " <BarContainer object of 25 artists>)"
                        ]
                    },
                    "execution_count": 49,
                    "metadata": {},
                    "output_type": "execute_result"
                },
                {
                    "data": {
                        "image/png": "[encoded data removed]",
                        "text/plain": [
                            "<Figure size 640x480 with 1 Axes>"
                        ]
                    },
                    "metadata": {},
                    "output_type": "display_data"
                }
            ],
            "source": [
                "#Graficamos\n",
                "plt.hist(array_chi, bins=25, edgecolor='black')\n",
                "plt.hist(array_normal, bins=25, edgecolor='black')"
            ]
        },
        {
            "cell_type": "code",
            "execution_count": 53,
            "id": "4f993d59",
            "metadata": {},
            "outputs": [
                {
                    "name": "stdout",
                    "output_type": "stream",
                    "text": [
                        "Asimetria Array Normal: 0.00021924279870764635\n",
                        "Asimetria Array Chi: 1.6226837097557556\n"
                    ]
                }
            ],
            "source": [
                "#Asimetria\n",
                "from scipy.stats import skew\n",
                "print(f'Asimetria Array Normal: {skew(array_normal)}')\n",
                "print(f'Asimetria Array Chi: {skew(array_chi)}')"
            ]
        },
        {
            "cell_type": "markdown",
            "id": "ff3ceb02",
            "metadata": {},
            "source": [
                "- Normal: los datos son perfectamente simetricos\n",
                "- Chi cuadrado: hay asimetría positiva lo que indica que la mayoría de los datos están a la izquierda y hay unos pocos valores muy altos a la derecha."
            ]
        },
        {
            "cell_type": "code",
            "execution_count": 54,
            "id": "550405bf",
            "metadata": {},
            "outputs": [
                {
                    "name": "stdout",
                    "output_type": "stream",
                    "text": [
                        "Asimetria Array Normal: -0.0073608011069112855\n",
                        "Asimetria Array Chi: 3.923728818609468\n"
                    ]
                }
            ],
            "source": [
                "#Curtosis (concentracion de los datos)\n",
                "from scipy.stats import kurtosis\n",
                "print(f'Asimetria Array Normal: {kurtosis(array_normal)}')\n",
                "print(f'Asimetria Array Chi: {kurtosis(array_chi)}')\n"
            ]
        },
        {
            "cell_type": "markdown",
            "id": "62362448",
            "metadata": {},
            "source": [
                "- Normal: Hay concentracion de los datos en torno a la media normal\n",
                "- Chi cuadrado: Hay una curtosis positiva lo que indica un pico más agudo en comparación con la distribución normal"
            ]
        },
        {
            "cell_type": "markdown",
            "id": "46c70c3d",
            "metadata": {},
            "source": [
                "### Exercise 2\n",
                "\n",
                "Write a Python program to calculate the standard deviation of the following data:\n",
                "\n",
                "```py\n",
                "data = [4, 2, 5, 8, 6]\n",
                "```"
            ]
        },
        {
            "cell_type": "code",
            "execution_count": 51,
            "id": "d590308e",
            "metadata": {},
            "outputs": [
                {
                    "name": "stdout",
                    "output_type": "stream",
                    "text": [
                        "La funcion que hicimos calcula una std de: 2.23606797749979\n",
                        "La std real es: 2.0\n"
                    ]
                }
            ],
            "source": [
                "data = [4, 2, 5, 8, 6]\n",
                "\n",
                "def std(lista):\n",
                "\n",
                "    media = sum(lista) / len(lista)\n",
                "\n",
                "    suma_cuadrados = 0\n",
                "    for valor in data:\n",
                "        suma_cuadrados = suma_cuadrados + ((valor - media)**2)\n",
                "\n",
                "    ds = (suma_cuadrados / (len(data)-1)) **0.5\n",
                "    return ds\n",
                "\n",
                "\n",
                "\n",
                "print(f'La funcion que hicimos calcula una std de: {std(data)}')\n",
                "\n",
                "test = np.array(data)\n",
                "print(f'La std real es: {test.std()}')\n"
            ]
        }
    ],
    "metadata": {
        "interpreter": {
            "hash": "9248718ffe6ce6938b217e69dbcc175ea21f4c6b28a317e96c05334edae734bb"
        },
        "kernelspec": {
            "display_name": "Python 3.9.12 ('ML-BOOTCAMP')",
            "language": "python",
            "name": "python3"
        },
        "language_info": {
            "codemirror_mode": {
                "name": "ipython",
                "version": 3
            },
            "file_extension": ".py",
            "mimetype": "text/x-python",
            "name": "python",
            "nbconvert_exporter": "python",
            "pygments_lexer": "ipython3",
            "version": "3.11.4"
        }
    },
    "nbformat": 4,
    "nbformat_minor": 5
}
